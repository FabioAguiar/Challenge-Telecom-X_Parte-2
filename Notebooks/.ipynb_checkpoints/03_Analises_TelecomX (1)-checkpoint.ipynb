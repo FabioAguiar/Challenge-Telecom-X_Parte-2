{
 "cells": [
  {
   "cell_type": "markdown",
   "id": "8a7af310",
   "metadata": {},
   "source": [
    "# 📊 Notebook 3 — Análises e Conclusão (Telecom X)\n",
    "Este notebook carrega o **modelo final exportado** no Notebook 2 e produz o relatório de análises:\n",
    "- desempenho no conjunto de teste,\n",
    "- fatores que mais influenciam a evasão (Permutation Importance pós-OHE + importâncias/coeficientes do modelo),\n",
    "- recomendações de retenção e próximos passos."
   ]
  },
  {
   "cell_type": "markdown",
   "id": "1995f0dc",
   "metadata": {},
   "source": [
    "## 1) Carregamento de artefatos"
   ]
  },
  {
   "cell_type": "code",
   "execution_count": null,
   "id": "3dd2be6a",
   "metadata": {},
   "outputs": [],
   "source": [
    "\n",
    "import os, joblib, numpy as np, pandas as pd\n",
    "from sklearn.metrics import classification_report, confusion_matrix\n",
    "\n",
    "MODEL_PATH = \"artefatos/modelo_churn_telecomx.pkl\"\n",
    "ARTEFATOS_PATH = \"artefatos/artefatos_modelagem.pkl\"\n",
    "TESTSET_PATH = \"artefatos/conjunto_teste.pkl\"\n",
    "\n",
    "if not (os.path.exists(MODEL_PATH) and os.path.exists(ARTEFATOS_PATH) and os.path.exists(TESTSET_PATH)):\n",
    "    raise FileNotFoundError(\"Não encontrei os artefatos esperados. Rode o Notebook 2 até a etapa de exportação.\")\n",
    "\n",
    "best_pipe = joblib.load(MODEL_PATH)\n",
    "artefatos = joblib.load(ARTEFATOS_PATH)\n",
    "teste = joblib.load(TESTSET_PATH)\n",
    "\n",
    "X_test, y_test = teste[\"X_test\"], teste[\"y_test\"]\n",
    "\n",
    "feature_names = artefatos.get(\"feature_names\")\n",
    "importances_df = artefatos.get(\"importances_df\")\n",
    "coefs_df = artefatos.get(\"coefs_df\")\n",
    "\n",
    "print(\"Origem do melhor modelo:\", artefatos.get(\"origem_melhor_modelo\"))\n"
   ]
  },
  {
   "cell_type": "markdown",
   "id": "0c2806c4",
   "metadata": {},
   "source": [
    "## 2) Desempenho no conjunto de teste"
   ]
  },
  {
   "cell_type": "code",
   "execution_count": null,
   "id": "dc48cd28",
   "metadata": {},
   "outputs": [],
   "source": [
    "\n",
    "y_pred = best_pipe.predict(X_test)\n",
    "print(classification_report(y_test, y_pred, digits=3))\n"
   ]
  },
  {
   "cell_type": "markdown",
   "id": "ddb8666c",
   "metadata": {},
   "source": [
    "## 3) Matriz de confusão"
   ]
  },
  {
   "cell_type": "code",
   "execution_count": null,
   "id": "f89d854f",
   "metadata": {},
   "outputs": [],
   "source": [
    "\n",
    "import matplotlib.pyplot as plt\n",
    "import numpy as np\n",
    "cm = confusion_matrix(y_test, y_pred)\n",
    "\n",
    "fig = plt.figure()\n",
    "plt.imshow(cm, interpolation='nearest')\n",
    "plt.title('Matriz de Confusão — Modelo Final')\n",
    "plt.xlabel('Predito')\n",
    "plt.ylabel('Real')\n",
    "for (i, j), val in np.ndenumerate(cm):\n",
    "    plt.text(j, i, int(val), ha='center', va='center')\n",
    "plt.show()\n"
   ]
  },
  {
   "cell_type": "markdown",
   "id": "10bbb8a3",
   "metadata": {},
   "source": [
    "## 4) Permutation Importance (pós-OHE — padrão)"
   ]
  },
  {
   "cell_type": "code",
   "execution_count": null,
   "id": "7bd8d268",
   "metadata": {},
   "outputs": [],
   "source": [
    "\n",
    "from sklearn.inspection import permutation_importance\n",
    "\n",
    "# Detecta automaticamente o nome do passo de pré-processamento\n",
    "pre_step_name = None\n",
    "for candidate in [\"pre\", \"preprocess\"]:\n",
    "    if candidate in best_pipe.named_steps:\n",
    "        pre_step_name = candidate\n",
    "        break\n",
    "if pre_step_name is None:\n",
    "    raise RuntimeError(\"Não encontrei o passo de pré-processamento no pipeline ('pre' ou 'preprocess').\")\n",
    "\n",
    "pre = best_pipe.named_steps[pre_step_name]\n",
    "model = best_pipe.named_steps[\"model\"]\n",
    "\n",
    "# Transforma X_test para o espaço pós-OHE\n",
    "X_test_trans = pre.transform(X_test)\n",
    "\n",
    "# Extrai nomes pós-OHE\n",
    "ohe = pre.named_transformers_[\"cat\"]\n",
    "num_names = np.array(pre.transformers_[0][2], dtype=object)  # colunas numéricas usadas no CT\n",
    "cat_cols_ = pre.transformers_[1][2]                           # colunas categóricas usadas no CT\n",
    "cat_names = ohe.get_feature_names_out(cat_cols_)\n",
    "feature_names_perm = np.concatenate([num_names, cat_names])\n",
    "\n",
    "# Importância por permutação do estimador final (dados transformados)\n",
    "perm = permutation_importance(\n",
    "    model, X_test_trans, y_test,\n",
    "    n_repeats=10, random_state=42, scoring=\"f1\", n_jobs=-1\n",
    ")\n",
    "\n",
    "perm_df = (\n",
    "    pd.DataFrame({\n",
    "        \"feature\": feature_names_perm,\n",
    "        \"importance_mean\": perm.importances_mean,\n",
    "        \"importance_std\": perm.importances_std\n",
    "    })\n",
    "    .sort_values(\"importance_mean\", ascending=False)\n",
    "    .reset_index(drop=True)\n",
    ")\n",
    "display(perm_df.head(20))\n"
   ]
  },
  {
   "cell_type": "markdown",
   "id": "6386a475",
   "metadata": {},
   "source": [
    "## 5) Fatores do modelo (importâncias/coeficientes)"
   ]
  },
  {
   "cell_type": "code",
   "execution_count": null,
   "id": "23c2a6ab",
   "metadata": {},
   "outputs": [],
   "source": [
    "\n",
    "from sklearn.ensemble import RandomForestClassifier\n",
    "from sklearn.linear_model import LogisticRegression\n",
    "\n",
    "# Se importances_df/coefs_df não foram salvos, tenta reconstruir rapidamente\n",
    "if feature_names is None:\n",
    "    try:\n",
    "        feature_names = feature_names_perm  # já calculados acima\n",
    "    except NameError:\n",
    "        feature_names = None\n",
    "\n",
    "if importances_df is None and isinstance(best_pipe.named_steps['model'], RandomForestClassifier) and feature_names is not None:\n",
    "    importances = best_pipe.named_steps['model'].feature_importances_\n",
    "    importances_df = (pd.DataFrame({'feature': feature_names, 'importance': importances})\n",
    "                      .sort_values('importance', ascending=False)\n",
    "                      .reset_index(drop=True))\n",
    "\n",
    "if coefs_df is None and isinstance(best_pipe.named_steps['model'], LogisticRegression) and feature_names is not None:\n",
    "    coefs = best_pipe.named_steps['model'].coef_.ravel()\n",
    "    coefs_df = (pd.DataFrame({'feature': feature_names, 'coef': coefs})\n",
    "                .assign(abs_coef=lambda d: d['coef'].abs())\n",
    "                .sort_values('abs_coef', ascending=False)\n",
    "                .reset_index(drop=True))\n",
    "\n",
    "display(importances_df.head(20) if importances_df is not None else coefs_df.head(20) if coefs_df is not None else \"Sem dados de importância/coeficientes.\")\n"
   ]
  },
  {
   "cell_type": "markdown",
   "id": "0d1bdb5f",
   "metadata": {},
   "source": [
    "## 6) Gráficos (Top-15 fatores)"
   ]
  },
  {
   "cell_type": "code",
   "execution_count": null,
   "id": "c320d9fb",
   "metadata": {},
   "outputs": [],
   "source": [
    "\n",
    "import matplotlib.pyplot as plt\n",
    "\n",
    "def plot_top(df, value_col, label_col=\"feature\", top=15, title=\"Ranking\"):\n",
    "    if df is None or df.empty:\n",
    "        print(\"Nada a plotar:\", title)\n",
    "        return\n",
    "    top_df = df.nlargest(top, value_col).iloc[::-1]\n",
    "    fig = plt.figure()\n",
    "    plt.barh(top_df[label_col], top_df[value_col])\n",
    "    plt.title(title)\n",
    "    plt.xlabel(value_col)\n",
    "    plt.ylabel(label_col)\n",
    "    plt.tight_layout()\n",
    "    plt.show()\n",
    "\n",
    "# Permutation Importance\n",
    "plot_top(perm_df, \"importance_mean\", title=\"Top-15 (Permutation Importance)\")\n",
    "\n",
    "# Específico do modelo (se houver)\n",
    "if 'importances_df' in globals() and importances_df is not None:\n",
    "    plot_top(importances_df, \"importance\", title=\"Top-15 Importâncias (Random Forest)\")\n",
    "if 'coefs_df' in globals() and coefs_df is not None:\n",
    "    if \"abs_coef\" not in coefs_df.columns and \"coef\" in coefs_df.columns:\n",
    "        coefs_df = coefs_df.assign(abs_coef=lambda d: d[\"coef\"].abs())\n",
    "    plot_top(coefs_df, \"abs_coef\", title=\"Top-15 |Coef| (Logistic Regression)\")\n"
   ]
  },
  {
   "cell_type": "markdown",
   "id": "2325ed4f",
   "metadata": {},
   "source": [
    "## 7) Tabelas executivas (métricas & comparações)"
   ]
  },
  {
   "cell_type": "code",
   "execution_count": null,
   "id": "3ae5785d",
   "metadata": {},
   "outputs": [],
   "source": [
    "\n",
    "metrics_tabela = artefatos.get(\"metrics_tabela\")\n",
    "if metrics_tabela is not None:\n",
    "    display(metrics_tabela)\n",
    "else:\n",
    "    print(\"Matriz de métricas agregadas não encontrada nos artefatos (opcional).\")\n"
   ]
  },
  {
   "cell_type": "markdown",
   "id": "42b31601",
   "metadata": {},
   "source": [
    "## 8) Conclusões e recomendações de retenção\n",
    "\n",
    "### 8.1 Destaques de desempenho\n",
    "- **Modelo final**: `{{ origem_melhor_modelo }}` (do GridSearchCV ou Holdout)  \n",
    "- **Resumo**: Comente **F1**, **Precisão** e **Recall** da classe *churn* (1) no teste.\n",
    "\n",
    "### 8.2 Principais fatores associados à evasão\n",
    "- Use a **Permutation Importance** (acima) como base principal.\n",
    "- Liste os **Top-5/10 fatores** e explique por que podem aumentar/diminuir a propensão ao churn.\n",
    "\n",
    "### 8.3 Recomendações de retenção\n",
    "- **Segmentação proativa**: priorize clientes com alto risco previsto.\n",
    "- **Ofertas direcionadas**: benefícios/planos com maior aderência ao perfil de risco.\n",
    "- **Experiência do cliente**: revisar pontos de atrito (suporte, faturamento, qualidade).\n",
    "- **Ajuste de limiar**: alinhar threshold ao custo de FN/FP.\n",
    "\n",
    "### 8.4 Próximos passos\n",
    "- Validar **ROC-AUC** e **PR-AUC**; rodar **validação cruzada** adicional.\n",
    "- **Calibração** de probabilidades (ex.: `CalibratedClassifierCV`), **threshold tuning**.\n",
    "- Enriquecer o dataset com novas variáveis relevantes.\n"
   ]
  }
 ],
 "metadata": {},
 "nbformat": 4,
 "nbformat_minor": 5
}
