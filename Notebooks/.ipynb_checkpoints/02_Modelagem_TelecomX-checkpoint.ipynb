{
 "cells": [
  {
   "cell_type": "markdown",
   "id": "0843cb62",
   "metadata": {},
   "source": [
    "\n",
    "# Modelagem Preditiva de Churn – Telecom X (Parte 2)\n",
    "\n",
    "Este notebook treina e avalia modelos de classificação para prever churn.  \n",
    "Ele assume que o arquivo `dataset_base.csv` foi exportado no Notebook 01.\n",
    "\n",
    "## Etapas\n",
    "1. Carregamento do dataset base\n",
    "2. Separação entre features e target\n",
    "3. Divisão treino/teste estratificada\n",
    "4. Pré-processamento com `ColumnTransformer` (One-Hot para categóricas, StandardScaler para numéricas)\n",
    "5. Treinamento de múltiplos modelos (Regressão Logística, Random Forest, KNN)\n",
    "6. Avaliação com métricas (accuracy, precision, recall, f1, ROC-AUC) e matriz de confusão\n",
    "7. Importância de variáveis (Random Forest) e interpretação básica\n",
    "8. Comparativo final entre modelos\n"
   ]
  },
  {
   "cell_type": "markdown",
   "id": "bef83903",
   "metadata": {},
   "source": [
    "### 1. Importações e Configuração"
   ]
  },
  {
   "cell_type": "code",
   "execution_count": null,
   "id": "4c7c0df9",
   "metadata": {},
   "outputs": [],
   "source": [
    "\n",
    "import pandas as pd\n",
    "import numpy as np\n",
    "\n",
    "from sklearn.model_selection import train_test_split, StratifiedKFold, cross_validate\n",
    "from sklearn.preprocessing import OneHotEncoder, StandardScaler\n",
    "from sklearn.compose import ColumnTransformer\n",
    "from sklearn.pipeline import Pipeline\n",
    "from sklearn.metrics import accuracy_score, precision_score, recall_score, f1_score, roc_auc_score, confusion_matrix, RocCurveDisplay\n",
    "\n",
    "from sklearn.linear_model import LogisticRegression\n",
    "from sklearn.ensemble import RandomForestClassifier\n",
    "from sklearn.neighbors import KNeighborsClassifier\n",
    "\n",
    "import matplotlib.pyplot as plt\n",
    "\n",
    "RANDOM_STATE = 42\n",
    "pd.set_option(\"display.max_columns\", 200)\n"
   ]
  },
  {
   "cell_type": "markdown",
   "id": "bf5c9ed5",
   "metadata": {},
   "source": [
    "### 2. Carregar o dataset base"
   ]
  },
  {
   "cell_type": "code",
   "execution_count": null,
   "id": "e64ff820",
   "metadata": {},
   "outputs": [],
   "source": [
    "\n",
    "# Ajuste o caminho se necessário\n",
    "DATA_PATH = \"dataset_base.csv\"\n",
    "df = pd.read_csv(DATA_PATH)\n",
    "print(\"Shape:\", df.shape)\n",
    "df.head()\n"
   ]
  },
  {
   "cell_type": "markdown",
   "id": "39620989",
   "metadata": {},
   "source": [
    "### 3. Definir target e features"
   ]
  },
  {
   "cell_type": "code",
   "execution_count": null,
   "id": "998e2687",
   "metadata": {},
   "outputs": [],
   "source": [
    "\n",
    "# Nome da coluna alvo (ajuste se o seu target tiver outro nome)\n",
    "TARGET_COL = \"Churn\"\n",
    "\n",
    "assert TARGET_COL in df.columns, f\"Coluna alvo '{TARGET_COL}' não encontrada no dataset.\"\n",
    "\n",
    "X = df.drop(columns=[TARGET_COL])\n",
    "y = df[TARGET_COL]\n",
    "\n",
    "# Garantir que o target está binário (0/1). Se estiver como texto, converte:\n",
    "if y.dtype == 'O':\n",
    "    # mapeia 'Yes'/'No' ou 'Sim'/'Não' automaticamente\n",
    "    mapping = {v:i for i, v in enumerate(sorted(y.unique()))}\n",
    "    print(\"Mapeando target categórico para binário:\", mapping)\n",
    "    y = y.map(mapping)\n",
    "\n",
    "print(\"Proporção de classe positiva (1):\", y.mean())\n"
   ]
  },
  {
   "cell_type": "markdown",
   "id": "61624ba2",
   "metadata": {},
   "source": [
    "### 4. Identificar tipos de variáveis"
   ]
  },
  {
   "cell_type": "code",
   "execution_count": null,
   "id": "cd822f59",
   "metadata": {},
   "outputs": [],
   "source": [
    "\n",
    "# Detectar automaticamente colunas categóricas (object e category) e numéricas\n",
    "cat_cols = X.select_dtypes(include=['object', 'category']).columns.tolist()\n",
    "num_cols = X.select_dtypes(include=[np.number]).columns.tolist()\n",
    "\n",
    "print(f\"Categóricas ({len(cat_cols)}):\", cat_cols[:20], \"...\" if len(cat_cols)>20 else \"\")\n",
    "print(f\"Numéricas   ({len(num_cols)}):\", num_cols[:20], \"...\" if len(num_cols)>20 else \"\")\n"
   ]
  },
  {
   "cell_type": "markdown",
   "id": "4ff15b9e",
   "metadata": {},
   "source": [
    "### 5. Split Treino/Teste (estratificado)"
   ]
  },
  {
   "cell_type": "code",
   "execution_count": null,
   "id": "52fd0585",
   "metadata": {},
   "outputs": [],
   "source": [
    "\n",
    "X_train, X_test, y_train, y_test = train_test_split(\n",
    "    X, y, test_size=0.2, random_state=RANDOM_STATE, stratify=y\n",
    ")\n",
    "print(\"Shapes -> X_train:\", X_train.shape, \"| X_test:\", X_test.shape)\n"
   ]
  },
  {
   "cell_type": "markdown",
   "id": "1fc1a6ea",
   "metadata": {},
   "source": [
    "### 6. Pré-processamento (ColumnTransformer)"
   ]
  },
  {
   "cell_type": "code",
   "execution_count": null,
   "id": "e55ab4a1",
   "metadata": {},
   "outputs": [],
   "source": [
    "\n",
    "# One-Hot para categóricas (drop='first' evita colinearidade), StandardScaler para numéricas\n",
    "preprocess = ColumnTransformer(\n",
    "    transformers=[\n",
    "        (\"num\", StandardScaler(), num_cols),\n",
    "        (\"cat\", OneHotEncoder(handle_unknown=\"ignore\", drop=\"first\"), cat_cols),\n",
    "    ]\n",
    ")\n"
   ]
  },
  {
   "cell_type": "markdown",
   "id": "0129be4d",
   "metadata": {},
   "source": [
    "### 7. Definir modelos e Pipelines"
   ]
  },
  {
   "cell_type": "code",
   "execution_count": null,
   "id": "7fc55069",
   "metadata": {},
   "outputs": [],
   "source": [
    "\n",
    "models = {\n",
    "    \"LogReg\": LogisticRegression(max_iter=1000, random_state=RANDOM_STATE),\n",
    "    \"RandomForest\": RandomForestClassifier(\n",
    "        n_estimators=300, max_depth=None, random_state=RANDOM_STATE, n_jobs=-1\n",
    "    ),\n",
    "    \"KNN\": KNeighborsClassifier(n_neighbors=11)\n",
    "}\n",
    "\n",
    "pipelines = {name: Pipeline(steps=[(\"preprocess\", preprocess), (\"model\", clf)]) \n",
    "             for name, clf in models.items()}\n",
    "list(pipelines.keys())\n"
   ]
  },
  {
   "cell_type": "markdown",
   "id": "f51dda21",
   "metadata": {},
   "source": [
    "### 8. Treino e avaliação (cross-validation e teste holdout)"
   ]
  },
  {
   "cell_type": "code",
   "execution_count": null,
   "id": "def93a4d",
   "metadata": {},
   "outputs": [],
   "source": [
    "\n",
    "scoring = {\n",
    "    \"accuracy\": \"accuracy\",\n",
    "    \"precision\": \"precision\",\n",
    "    \"recall\": \"recall\",\n",
    "    \"f1\": \"f1\",\n",
    "    \"roc_auc\": \"roc_auc\"\n",
    "}\n",
    "\n",
    "cv = StratifiedKFold(n_splits=5, shuffle=True, random_state=RANDOM_STATE)\n",
    "\n",
    "cv_results = {}\n",
    "for name, pipe in pipelines.items():\n",
    "    scores = cross_validate(pipe, X_train, y_train, cv=cv, scoring=scoring, n_jobs=-1, return_train_score=False)\n",
    "    cv_results[name] = {m: (scores[f'test_{m}'].mean(), scores[f'test_{m}'].std()) for m in scoring.keys()}\n",
    "\n",
    "pd.DataFrame({m: {k: f\"{v[m][0]:.3f} ± {v[m][1]:.3f}\" for k, v in cv_results.items()} for m in scoring.keys()})\n"
   ]
  },
  {
   "cell_type": "markdown",
   "id": "3f2ee069",
   "metadata": {},
   "source": [
    "### 9. Ajuste final em treino e avaliação em teste (métricas e matriz de confusão)"
   ]
  },
  {
   "cell_type": "code",
   "execution_count": null,
   "id": "ad9eda88",
   "metadata": {},
   "outputs": [],
   "source": [
    "\n",
    "def evaluate_and_plot(pipe, X_train, y_train, X_test, y_test, title):\n",
    "    pipe.fit(X_train, y_train)\n",
    "    y_pred = pipe.predict(X_test)\n",
    "    y_proba = pipe.predict_proba(X_test)[:, 1] if hasattr(pipe, \"predict_proba\") else None\n",
    "\n",
    "    acc = accuracy_score(y_test, y_pred)\n",
    "    prec = precision_score(y_test, y_pred)\n",
    "    rec = recall_score(y_test, y_pred)\n",
    "    f1 = f1_score(y_test, y_pred)\n",
    "    roc = roc_auc_score(y_test, y_proba) if y_proba is not None else np.nan\n",
    "\n",
    "    print(f\"{title} -> Accuracy: {acc:.3f} | Precision: {prec:.3f} | Recall: {rec:.3f} | F1: {f1:.3f} | ROC-AUC: {roc:.3f}\")\n",
    "\n",
    "    cm = confusion_matrix(y_test, y_pred)\n",
    "    print(\"Matriz de Confusão:\\n\", cm)\n",
    "\n",
    "    # Curva ROC (apenas se houver probas)\n",
    "    if y_proba is not None:\n",
    "        RocCurveDisplay.from_predictions(y_test, y_proba)\n",
    "        plt.title(f\"Curva ROC - {title}\")\n",
    "        plt.show()\n",
    "\n",
    "    return pipe, {\"accuracy\": acc, \"precision\": prec, \"recall\": rec, \"f1\": f1, \"roc_auc\": roc}\n",
    "\n",
    "final_results = {}\n",
    "fitted_pipes = {}\n",
    "for name, pipe in pipelines.items():\n",
    "    print(\"\\n\" + \"=\"*80)\n",
    "    fitted, metrics = evaluate_and_plot(pipe, X_train, y_train, X_test, y_test, title=name)\n",
    "    fitted_pipes[name] = fitted\n",
    "    final_results[name] = metrics\n",
    "\n",
    "pd.DataFrame(final_results).T.sort_values(\"f1\", ascending=False)\n"
   ]
  },
  {
   "cell_type": "markdown",
   "id": "bcb728d6",
   "metadata": {},
   "source": [
    "### 10. Importância de variáveis (Random Forest)"
   ]
  },
  {
   "cell_type": "code",
   "execution_count": null,
   "id": "9a470602",
   "metadata": {},
   "outputs": [],
   "source": [
    "\n",
    "# Importância de variáveis do RandomForest após o pré-processamento\n",
    "rf_pipe = fitted_pipes.get(\"RandomForest\")\n",
    "if rf_pipe is not None:\n",
    "    # Recuperar nomes das features após transformação\n",
    "    ohe = rf_pipe.named_steps[\"preprocess\"].named_transformers_[\"cat\"]\n",
    "    cat_feature_names = []\n",
    "    if hasattr(ohe, \"get_feature_names_out\"):\n",
    "        cat_feature_names = list(ohe.get_feature_names_out(cat_cols))\n",
    "    else:\n",
    "        # fallback simples\n",
    "        cat_feature_names = [f\"{c}_{i}\" for c in cat_cols for i in range(1,2)]\n",
    "\n",
    "    feature_names = num_cols + cat_feature_names\n",
    "\n",
    "    rf = rf_pipe.named_steps[\"model\"]\n",
    "    importances = rf.feature_importances_\n",
    "\n",
    "    # Ordenar\n",
    "    imp_df = pd.DataFrame({\"feature\": feature_names, \"importance\": importances})                 .sort_values(\"importance\", ascending=False).head(20)\n",
    "\n",
    "    display(imp_df)\n",
    "\n",
    "    # Plot simples\n",
    "    plt.figure()\n",
    "    plt.barh(imp_df[\"feature\"][::-1], imp_df[\"importance\"][::-1])\n",
    "    plt.title(\"Top 20 Importâncias - Random Forest\")\n",
    "    plt.xlabel(\"Ganho de Importância\")\n",
    "    plt.ylabel(\"Variável\")\n",
    "    plt.tight_layout()\n",
    "    plt.show()\n",
    "else:\n",
    "    print(\"RandomForest não foi ajustado.\")\n"
   ]
  },
  {
   "cell_type": "markdown",
   "id": "b3e2453e",
   "metadata": {},
   "source": [
    "### 11. Comparativo final e salvamento dos resultados"
   ]
  },
  {
   "cell_type": "code",
   "execution_count": null,
   "id": "e093ed73",
   "metadata": {},
   "outputs": [],
   "source": [
    "\n",
    "results_df = pd.DataFrame(final_results).T\n",
    "results_df = results_df.sort_values(by=\"f1\", ascending=False)\n",
    "display(results_df)\n",
    "\n",
    "# Salvar comparativo\n",
    "results_path = \"resultados_modelos.csv\"\n",
    "results_df.to_csv(results_path, index=True)\n",
    "print(f\"Resultados salvos em: {results_path}\")\n"
   ]
  },
  {
   "cell_type": "markdown",
   "id": "ddf6eede",
   "metadata": {},
   "source": [
    "\n",
    "### Próximos passos (opcional)\n",
    "- Ajuste fino de hiperparâmetros (GridSearchCV / RandomizedSearchCV) para o(s) melhor(es) modelo(s).\n",
    "- Interpretabilidade local (ex.: SHAP) para explicar previsões individuais.\n",
    "- Definição de limiar de decisão conforme objetivo de negócio (otimizar Recall vs. Precision).\n",
    "- Exportar o melhor pipeline com `joblib` para uso posterior em produção ou em um app de demonstração.\n"
   ]
  }
 ],
 "metadata": {},
 "nbformat": 4,
 "nbformat_minor": 5
}
