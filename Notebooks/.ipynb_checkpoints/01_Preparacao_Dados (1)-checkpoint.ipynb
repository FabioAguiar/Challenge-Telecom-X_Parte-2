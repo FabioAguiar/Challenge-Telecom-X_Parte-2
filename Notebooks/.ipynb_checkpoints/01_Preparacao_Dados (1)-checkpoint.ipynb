{
 "cells": [
  {
   "cell_type": "markdown",
   "id": "59effd16-1943-4ab6-ac93-d7ff0b50de8a",
   "metadata": {},
   "source": [
    "# Preparação de Dados para Modelagem – Telecom X (Parte 2)\n",
    "\n",
    "Este notebook é uma continuação do trabalho desenvolvido na **Parte 1** do desafio *Telecom X*, onde foi realizada a análise exploratória e o tratamento inicial dos dados relacionados à evasão de clientes (*churn*).\n",
    "\n",
    "O objetivo aqui é **produzir um dataset final, pronto para uso em modelos de Machine Learning**, mantendo a consistência do processo e garantindo que as transformações sejam reprodutíveis.\n",
    "\n",
    "As etapas principais deste notebook incluem:\n",
    "1. **Carregamento dos dados tratados e bibliotecas**.\n",
    "2. **Diagnósticos finais**.\n",
    "3. **Encoding.**.\n",
    "4. **Normalização/Escalonamento**.\n",
    "5. **Separação em conjuntos de treino e teste**.\n",
    "6. **Exportação do dataset final**.\n",
    "\n",
    "Ao final deste processo, será gerado um arquivo pronto para ser consumido pelo Notebook 02 (*Modelagem*)."
   ]
  },
  {
   "cell_type": "markdown",
   "id": "d4ad0c1d-a219-4606-adac-c572f0fa7cfd",
   "metadata": {},
   "source": [
    "### **1 - Carregamento dos dados tratados e bibliotecas**"
   ]
  },
  {
   "cell_type": "code",
   "execution_count": 19,
   "id": "75b9567b-7a59-4fe4-ba53-f0db4191612e",
   "metadata": {},
   "outputs": [],
   "source": [
    "import pandas as pd\n",
    "import seaborn as sns\n",
    "import matplotlib.pyplot as plt"
   ]
  },
  {
   "cell_type": "code",
   "execution_count": 20,
   "id": "fe6047f5-46c3-491c-a77b-255663649cea",
   "metadata": {},
   "outputs": [],
   "source": [
    "df = pd.read_csv(\"C:/data/TelecomX_Data_tratado.csv\")"
   ]
  },
  {
   "cell_type": "code",
   "execution_count": 21,
   "id": "a5261e31-74c4-4de3-95e3-824f3b2c35ca",
   "metadata": {},
   "outputs": [
    {
     "data": {
      "text/html": [
       "<div>\n",
       "<style scoped>\n",
       "    .dataframe tbody tr th:only-of-type {\n",
       "        vertical-align: middle;\n",
       "    }\n",
       "\n",
       "    .dataframe tbody tr th {\n",
       "        vertical-align: top;\n",
       "    }\n",
       "\n",
       "    .dataframe thead th {\n",
       "        text-align: right;\n",
       "    }\n",
       "</style>\n",
       "<table border=\"1\" class=\"dataframe\">\n",
       "  <thead>\n",
       "    <tr style=\"text-align: right;\">\n",
       "      <th></th>\n",
       "      <th>customerID</th>\n",
       "      <th>Evasao</th>\n",
       "      <th>Genero</th>\n",
       "      <th>Idoso</th>\n",
       "      <th>Possui_Parceiro</th>\n",
       "      <th>Possui_Dependentes</th>\n",
       "      <th>Meses_Contrato</th>\n",
       "      <th>Servico_Telefone</th>\n",
       "      <th>Multiplas_Linhas</th>\n",
       "      <th>Tipo_Internet</th>\n",
       "      <th>...</th>\n",
       "      <th>Protecao_Dispositivo</th>\n",
       "      <th>Suporte_Tecnico</th>\n",
       "      <th>Streaming_TV</th>\n",
       "      <th>Streaming_Filmes</th>\n",
       "      <th>Tipo_Contrato</th>\n",
       "      <th>Fatura_Digital</th>\n",
       "      <th>Metodo_Pagamento</th>\n",
       "      <th>Fatura_Mensal</th>\n",
       "      <th>Fatura_Total</th>\n",
       "      <th>Fatura_Diaria</th>\n",
       "    </tr>\n",
       "  </thead>\n",
       "  <tbody>\n",
       "    <tr>\n",
       "      <th>0</th>\n",
       "      <td>0002-ORFBO</td>\n",
       "      <td>0</td>\n",
       "      <td>Female</td>\n",
       "      <td>0</td>\n",
       "      <td>1</td>\n",
       "      <td>1</td>\n",
       "      <td>9</td>\n",
       "      <td>1</td>\n",
       "      <td>0</td>\n",
       "      <td>DSL</td>\n",
       "      <td>...</td>\n",
       "      <td>0</td>\n",
       "      <td>1</td>\n",
       "      <td>1</td>\n",
       "      <td>0</td>\n",
       "      <td>One year</td>\n",
       "      <td>1</td>\n",
       "      <td>Mailed check</td>\n",
       "      <td>65.6</td>\n",
       "      <td>593.30</td>\n",
       "      <td>2.186667</td>\n",
       "    </tr>\n",
       "    <tr>\n",
       "      <th>1</th>\n",
       "      <td>0003-MKNFE</td>\n",
       "      <td>0</td>\n",
       "      <td>Male</td>\n",
       "      <td>0</td>\n",
       "      <td>0</td>\n",
       "      <td>0</td>\n",
       "      <td>9</td>\n",
       "      <td>1</td>\n",
       "      <td>1</td>\n",
       "      <td>DSL</td>\n",
       "      <td>...</td>\n",
       "      <td>0</td>\n",
       "      <td>0</td>\n",
       "      <td>0</td>\n",
       "      <td>1</td>\n",
       "      <td>Month-to-month</td>\n",
       "      <td>0</td>\n",
       "      <td>Mailed check</td>\n",
       "      <td>59.9</td>\n",
       "      <td>542.40</td>\n",
       "      <td>1.996667</td>\n",
       "    </tr>\n",
       "    <tr>\n",
       "      <th>2</th>\n",
       "      <td>0004-TLHLJ</td>\n",
       "      <td>1</td>\n",
       "      <td>Male</td>\n",
       "      <td>0</td>\n",
       "      <td>0</td>\n",
       "      <td>0</td>\n",
       "      <td>4</td>\n",
       "      <td>1</td>\n",
       "      <td>0</td>\n",
       "      <td>Fiber optic</td>\n",
       "      <td>...</td>\n",
       "      <td>1</td>\n",
       "      <td>0</td>\n",
       "      <td>0</td>\n",
       "      <td>0</td>\n",
       "      <td>Month-to-month</td>\n",
       "      <td>1</td>\n",
       "      <td>Electronic check</td>\n",
       "      <td>73.9</td>\n",
       "      <td>280.85</td>\n",
       "      <td>2.463333</td>\n",
       "    </tr>\n",
       "    <tr>\n",
       "      <th>3</th>\n",
       "      <td>0011-IGKFF</td>\n",
       "      <td>1</td>\n",
       "      <td>Male</td>\n",
       "      <td>1</td>\n",
       "      <td>1</td>\n",
       "      <td>0</td>\n",
       "      <td>13</td>\n",
       "      <td>1</td>\n",
       "      <td>0</td>\n",
       "      <td>Fiber optic</td>\n",
       "      <td>...</td>\n",
       "      <td>1</td>\n",
       "      <td>0</td>\n",
       "      <td>1</td>\n",
       "      <td>1</td>\n",
       "      <td>Month-to-month</td>\n",
       "      <td>1</td>\n",
       "      <td>Electronic check</td>\n",
       "      <td>98.0</td>\n",
       "      <td>1237.85</td>\n",
       "      <td>3.266667</td>\n",
       "    </tr>\n",
       "    <tr>\n",
       "      <th>4</th>\n",
       "      <td>0013-EXCHZ</td>\n",
       "      <td>1</td>\n",
       "      <td>Female</td>\n",
       "      <td>1</td>\n",
       "      <td>1</td>\n",
       "      <td>0</td>\n",
       "      <td>3</td>\n",
       "      <td>1</td>\n",
       "      <td>0</td>\n",
       "      <td>Fiber optic</td>\n",
       "      <td>...</td>\n",
       "      <td>0</td>\n",
       "      <td>1</td>\n",
       "      <td>1</td>\n",
       "      <td>0</td>\n",
       "      <td>Month-to-month</td>\n",
       "      <td>1</td>\n",
       "      <td>Mailed check</td>\n",
       "      <td>83.9</td>\n",
       "      <td>267.40</td>\n",
       "      <td>2.796667</td>\n",
       "    </tr>\n",
       "  </tbody>\n",
       "</table>\n",
       "<p>5 rows × 22 columns</p>\n",
       "</div>"
      ],
      "text/plain": [
       "   customerID  Evasao  Genero  Idoso  Possui_Parceiro  Possui_Dependentes  \\\n",
       "0  0002-ORFBO       0  Female      0                1                   1   \n",
       "1  0003-MKNFE       0    Male      0                0                   0   \n",
       "2  0004-TLHLJ       1    Male      0                0                   0   \n",
       "3  0011-IGKFF       1    Male      1                1                   0   \n",
       "4  0013-EXCHZ       1  Female      1                1                   0   \n",
       "\n",
       "   Meses_Contrato  Servico_Telefone  Multiplas_Linhas Tipo_Internet  ...  \\\n",
       "0               9                 1                 0           DSL  ...   \n",
       "1               9                 1                 1           DSL  ...   \n",
       "2               4                 1                 0   Fiber optic  ...   \n",
       "3              13                 1                 0   Fiber optic  ...   \n",
       "4               3                 1                 0   Fiber optic  ...   \n",
       "\n",
       "   Protecao_Dispositivo  Suporte_Tecnico  Streaming_TV  Streaming_Filmes  \\\n",
       "0                     0                1             1                 0   \n",
       "1                     0                0             0                 1   \n",
       "2                     1                0             0                 0   \n",
       "3                     1                0             1                 1   \n",
       "4                     0                1             1                 0   \n",
       "\n",
       "    Tipo_Contrato  Fatura_Digital  Metodo_Pagamento  Fatura_Mensal  \\\n",
       "0        One year               1      Mailed check           65.6   \n",
       "1  Month-to-month               0      Mailed check           59.9   \n",
       "2  Month-to-month               1  Electronic check           73.9   \n",
       "3  Month-to-month               1  Electronic check           98.0   \n",
       "4  Month-to-month               1      Mailed check           83.9   \n",
       "\n",
       "  Fatura_Total  Fatura_Diaria  \n",
       "0       593.30       2.186667  \n",
       "1       542.40       1.996667  \n",
       "2       280.85       2.463333  \n",
       "3      1237.85       3.266667  \n",
       "4       267.40       2.796667  \n",
       "\n",
       "[5 rows x 22 columns]"
      ]
     },
     "execution_count": 21,
     "metadata": {},
     "output_type": "execute_result"
    }
   ],
   "source": [
    "df.head()"
   ]
  },
  {
   "cell_type": "markdown",
   "id": "7664a52b-de6b-445c-819a-e61a362b245e",
   "metadata": {},
   "source": [
    "### **2 - Diagnósticos finais**"
   ]
  },
  {
   "cell_type": "code",
   "execution_count": 22,
   "id": "fcc635bd-7118-4822-ab61-06505c638c07",
   "metadata": {},
   "outputs": [
    {
     "name": "stdout",
     "output_type": "stream",
     "text": [
      "<class 'pandas.core.frame.DataFrame'>\n",
      "RangeIndex: 7032 entries, 0 to 7031\n",
      "Data columns (total 22 columns):\n",
      " #   Column                Non-Null Count  Dtype  \n",
      "---  ------                --------------  -----  \n",
      " 0   customerID            7032 non-null   object \n",
      " 1   Evasao                7032 non-null   int64  \n",
      " 2   Genero                7032 non-null   object \n",
      " 3   Idoso                 7032 non-null   int64  \n",
      " 4   Possui_Parceiro       7032 non-null   int64  \n",
      " 5   Possui_Dependentes    7032 non-null   int64  \n",
      " 6   Meses_Contrato        7032 non-null   int64  \n",
      " 7   Servico_Telefone      7032 non-null   int64  \n",
      " 8   Multiplas_Linhas      7032 non-null   int64  \n",
      " 9   Tipo_Internet         7032 non-null   object \n",
      " 10  Seguranca_Online      7032 non-null   int64  \n",
      " 11  Backup_Online         7032 non-null   int64  \n",
      " 12  Protecao_Dispositivo  7032 non-null   int64  \n",
      " 13  Suporte_Tecnico       7032 non-null   int64  \n",
      " 14  Streaming_TV          7032 non-null   int64  \n",
      " 15  Streaming_Filmes      7032 non-null   int64  \n",
      " 16  Tipo_Contrato         7032 non-null   object \n",
      " 17  Fatura_Digital        7032 non-null   int64  \n",
      " 18  Metodo_Pagamento      7032 non-null   object \n",
      " 19  Fatura_Mensal         7032 non-null   float64\n",
      " 20  Fatura_Total          7032 non-null   float64\n",
      " 21  Fatura_Diaria         7032 non-null   float64\n",
      "dtypes: float64(3), int64(14), object(5)\n",
      "memory usage: 1.2+ MB\n"
     ]
    },
    {
     "data": {
      "text/plain": [
       "Index(['customerID', 'Evasao', 'Genero', 'Idoso', 'Possui_Parceiro',\n",
       "       'Possui_Dependentes', 'Meses_Contrato', 'Servico_Telefone',\n",
       "       'Multiplas_Linhas', 'Tipo_Internet', 'Seguranca_Online',\n",
       "       'Backup_Online', 'Protecao_Dispositivo', 'Suporte_Tecnico',\n",
       "       'Streaming_TV', 'Streaming_Filmes', 'Tipo_Contrato', 'Fatura_Digital',\n",
       "       'Metodo_Pagamento', 'Fatura_Mensal', 'Fatura_Total', 'Fatura_Diaria'],\n",
       "      dtype='object')"
      ]
     },
     "execution_count": 22,
     "metadata": {},
     "output_type": "execute_result"
    }
   ],
   "source": [
    "# Ver tipos de dados e colunas\n",
    "df.info()\n",
    "\n",
    "# Verificar colunas únicas e estrutura\n",
    "df.columns"
   ]
  },
  {
   "cell_type": "code",
   "execution_count": 23,
   "id": "1e3d1869-844b-4f14-a0a2-a5194905ddd4",
   "metadata": {},
   "outputs": [
    {
     "data": {
      "text/plain": [
       "customerID              0\n",
       "Evasao                  0\n",
       "Genero                  0\n",
       "Idoso                   0\n",
       "Possui_Parceiro         0\n",
       "Possui_Dependentes      0\n",
       "Meses_Contrato          0\n",
       "Servico_Telefone        0\n",
       "Multiplas_Linhas        0\n",
       "Tipo_Internet           0\n",
       "Seguranca_Online        0\n",
       "Backup_Online           0\n",
       "Protecao_Dispositivo    0\n",
       "Suporte_Tecnico         0\n",
       "Streaming_TV            0\n",
       "Streaming_Filmes        0\n",
       "Tipo_Contrato           0\n",
       "Fatura_Digital          0\n",
       "Metodo_Pagamento        0\n",
       "Fatura_Mensal           0\n",
       "Fatura_Total            0\n",
       "Fatura_Diaria           0\n",
       "dtype: int64"
      ]
     },
     "execution_count": 23,
     "metadata": {},
     "output_type": "execute_result"
    }
   ],
   "source": [
    "# Valores nulos\n",
    "df.isnull().sum()"
   ]
  },
  {
   "cell_type": "code",
   "execution_count": 24,
   "id": "1e986c05-ea3a-48d3-8287-3a3b12329dc0",
   "metadata": {},
   "outputs": [
    {
     "name": "stdout",
     "output_type": "stream",
     "text": [
      "customerID: ['0002-ORFBO' '0003-MKNFE' '0004-TLHLJ' ... '9992-UJOEL' '9993-LHIEB'\n",
      " '9995-HOTOH']\n",
      "Genero: ['Female' 'Male']\n",
      "Tipo_Internet: ['DSL' 'Fiber optic' 'No']\n",
      "Tipo_Contrato: ['One year' 'Month-to-month' 'Two year']\n",
      "Metodo_Pagamento: ['Mailed check' 'Electronic check' 'Credit card (automatic)'\n",
      " 'Bank transfer (automatic)']\n"
     ]
    }
   ],
   "source": [
    "# Verificar valores únicos em colunas categóricas\n",
    "for col in df.select_dtypes(include='object').columns:\n",
    "    print(f\"{col}: {df[col].unique()}\")"
   ]
  },
  {
   "cell_type": "code",
   "execution_count": 25,
   "id": "6260d458-bbf7-4d5c-8d5b-ee0e172ae678",
   "metadata": {},
   "outputs": [
    {
     "data": {
      "text/plain": [
       "0"
      ]
     },
     "execution_count": 25,
     "metadata": {},
     "output_type": "execute_result"
    }
   ],
   "source": [
    "# Verificando valores nulos de Fatura_Total, antiga coluna account.Charges.Total\n",
    "df['Fatura_Total'] = pd.to_numeric(df['Fatura_Total'], errors='coerce')\n",
    "\n",
    "# valores nulos\n",
    "df['Fatura_Total'].isnull().sum()"
   ]
  },
  {
   "cell_type": "code",
   "execution_count": 26,
   "id": "874d5e6a-dc85-41cc-959a-828ba2f07d60",
   "metadata": {},
   "outputs": [
    {
     "data": {
      "text/plain": [
       "0"
      ]
     },
     "execution_count": 26,
     "metadata": {},
     "output_type": "execute_result"
    }
   ],
   "source": [
    "# Verificar duplicatas de customerID \n",
    "df['customerID'].duplicated().sum()"
   ]
  },
  {
   "cell_type": "code",
   "execution_count": null,
   "id": "aa59915d-72cb-422b-98c7-88895acc3751",
   "metadata": {},
   "outputs": [],
   "source": []
  },
  {
   "cell_type": "markdown",
   "id": "985a18a0",
   "metadata": {},
   "source": [
    "\n",
    "## 3 - Remoção de Colunas Irrelevantes\n",
    "Removemos colunas que não agregam valor preditivo (identificadores indiretos ou quase únicos).\n",
    "Com base na análise de cardinalidade, **`Fatura_Total`** foi identificada como candidata e será removida.\n"
   ]
  },
  {
   "cell_type": "code",
   "execution_count": null,
   "id": "15f19577",
   "metadata": {},
   "outputs": [],
   "source": [
    "\n",
    "# Remover coluna irrelevante, se existir\n",
    "cols_to_drop = [c for c in [\"Fatura_Total\"] if c in df.columns]\n",
    "if cols_to_drop:\n",
    "    df = df.drop(columns=cols_to_drop)\n",
    "    print(\"Colunas removidas:\", cols_to_drop)\n",
    "else:\n",
    "    print(\"Nenhuma das colunas candidatas estava presente para remoção.\")\n"
   ]
  },
  {
   "cell_type": "markdown",
   "id": "8471ebbb",
   "metadata": {},
   "source": [
    "\n",
    "## 4 - Confirmação da Prontidão\n",
    "Checagens objetivas para garantir que o dataset está íntegro e pronto para a modelagem:\n",
    "- Estrutura e tipos de dados\n",
    "- Valores ausentes e duplicados\n",
    "- Sanidade dos rótulos categóricos\n"
   ]
  },
  {
   "cell_type": "code",
   "execution_count": null,
   "id": "cc8c1ddf",
   "metadata": {},
   "outputs": [],
   "source": [
    "\n",
    "print(\"📊 Informações do dataset:\")\n",
    "print(df.info())\n",
    "\n",
    "nulos = df.isnull().sum()\n",
    "print(\"\\n🔍 Valores ausentes por coluna:\")\n",
    "print(nulos[nulos > 0] if nulos.sum() > 0 else \"Nenhum valor ausente encontrado.\")\n",
    "\n",
    "duplicatas = df.duplicated().sum()\n",
    "print(f\"\\n📌 Registros duplicados: {duplicatas}\")\n",
    "\n",
    "print(\"\\n📋 Valores únicos por coluna categórica:\")\n",
    "for col in df.select_dtypes(include=\"object\"):\n",
    "    print(f\"{col}: {df[col].unique()}\")\n",
    "\n",
    "print(\"\\n✅ Dataset verificado: pronto para a etapa de modelagem.\")\n"
   ]
  },
  {
   "cell_type": "markdown",
   "id": "98df7aa5",
   "metadata": {},
   "source": [
    "\n",
    "## 5 - Exportação do Dataset Base\n",
    "O arquivo exportado **não** aplica encoding ou normalização.  \n",
    "Ele será consumido pelo **Notebook 2 – Modelagem**.\n"
   ]
  },
  {
   "cell_type": "code",
   "execution_count": null,
   "id": "487452df",
   "metadata": {},
   "outputs": [],
   "source": [
    "\n",
    "output_path = \"dataset_base.csv\"\n",
    "df.to_csv(output_path, index=False)\n",
    "print(f\"💾 Dataset exportado para: {output_path}\")\n"
   ]
  },
  {
   "cell_type": "markdown",
   "id": "ea7653f7",
   "metadata": {},
   "source": [
    "\n",
    "> **Conclusão:** o dataset tratado foi validado, colunas irrelevantes foram removidas e o arquivo base foi exportado.  \n",
    "> Próxima etapa: **Notebook 2 – Modelagem**.\n"
   ]
  }
 ],
 "metadata": {
  "kernelspec": {
   "display_name": "Python 3 (ipykernel)",
   "language": "python",
   "name": "python3"
  },
  "language_info": {
   "codemirror_mode": {
    "name": "ipython",
    "version": 3
   },
   "file_extension": ".py",
   "mimetype": "text/x-python",
   "name": "python",
   "nbconvert_exporter": "python",
   "pygments_lexer": "ipython3",
   "version": "3.12.7"
  }
 },
 "nbformat": 4,
 "nbformat_minor": 5
}
